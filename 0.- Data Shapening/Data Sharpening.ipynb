{
 "cells": [
  {
   "cell_type": "markdown",
   "id": "fee379dd",
   "metadata": {},
   "source": [
    "### Redefinying distributions"
   ]
  },
  {
   "cell_type": "markdown",
   "id": "2b925358",
   "metadata": {},
   "source": [
    "All columns followed the same pattern: all possible values had almost the same proportion. "
   ]
  },
  {
   "cell_type": "markdown",
   "id": "02dde9ae",
   "metadata": {},
   "source": [
    "#### Customized distribution"
   ]
  },
  {
   "cell_type": "markdown",
   "id": "e9f21349",
   "metadata": {},
   "source": [
    "In this step I will force my fields to follow the distributions I came up with."
   ]
  },
  {
   "cell_type": "markdown",
   "id": "77e621eb",
   "metadata": {},
   "source": [
    "##### Rating fields"
   ]
  },
  {
   "cell_type": "code",
   "execution_count": 1,
   "id": "0e93946b",
   "metadata": {},
   "outputs": [],
   "source": [
    "import pandas as pd\n",
    "import numpy as np\n",
    "\n",
    "df = pd.read_csv(r\"C:\\Users\\PC\\Desktop\\Estudio\\Analisis de Datos\\Proyectos\\Festival Purchase Behavior Analysis\\Datasets\\festival_dataset_dirty.csv\")\n",
    "\n",
    "#-----------------------\n",
    "# Column satisfaction_score\n",
    "# Mixed reviews for satisfaction, but generally positive\n",
    "values = [1, 2, 3, 4, 5, 6, 7, 8, 9, 10]\n",
    "distribution = [0.11, 0.05, 0.04, 0.12, 0.08, 0.1, 0.07, 0.3, 0.1, 0.03]\n",
    "\n",
    "# Randomly assign the satisfaction score based on the distribution\n",
    "df[\"satisfaction_score\"] = np.random.choice(\n",
    "    values,\n",
    "    size=len(df),\n",
    "    p=distribution\n",
    ")\n",
    "\n",
    "#-----------------------\n",
    "# Column security_rating\n",
    "# General positive reviews for securty\n",
    "values = [1, 2, 4, 5, 6, 7, 8, 9, 10]\n",
    "distribution = [0.02, 0.02, 0.01, 0.05, 0.1, 0.2, 0.25, 0.2, 0.15]\n",
    "\n",
    "# Randomly assign the security rating based on the distribution\n",
    "df[\"security_rating\"] = np.random.choice(\n",
    "    values,\n",
    "    size=len(df),\n",
    "    p=distribution\n",
    ")\n",
    "\n",
    "#-----------------------\n",
    "# Column cleanliness_rating\n",
    "# General negative reviews for cleanliness\n",
    "values = [1, 2, 3, 4, 5, 6, 7, 8, 9, 10]\n",
    "distribution = [0.03, 0.12, 0.18, 0.12, 0.1, 0.18, 0.1, 0.07, 0.06, 0.04]\n",
    "\n",
    "# Randomly assign the cleanliness rating based on the distribution\n",
    "df[\"cleanliness_rating\"] = np.random.choice(\n",
    "    values,\n",
    "    size=len(df),\n",
    "    p=distribution\n",
    ")"
   ]
  },
  {
   "cell_type": "markdown",
   "id": "03380097",
   "metadata": {},
   "source": [
    "##### No rating fields"
   ]
  },
  {
   "cell_type": "code",
   "execution_count": 2,
   "id": "54a9c2bd",
   "metadata": {},
   "outputs": [],
   "source": [
    "#-----------------------\n",
    "# Column group_size\n",
    "# Mayority of larger groups over smaller ones\n",
    "values = [1, 2, 3, 4, 5]\n",
    "distribution = [0.09, 0.17, 0.31, 0.23, 0.2]\n",
    "\n",
    "# Randomly assign the group size based on the distribution\n",
    "df[\"group_size\"] = np.random.choice(\n",
    "    values,\n",
    "    size=len(df),\n",
    "    p=distribution\n",
    ")\n",
    "\n",
    "#-----------------------\n",
    "# Column payment_method\n",
    "# Tendency to pay with card and cash\n",
    "values = [\"Card\", \"Cash\", \"Festival App\"]\n",
    "distribution = [0.65, 0.3, 0.05]\n",
    "\n",
    "# Randomly assign the payment method based on the distribution\n",
    "df[\"payment_method\"] = np.random.choice(\n",
    "    values,\n",
    "    size=len(df),\n",
    "    p=distribution\n",
    ")\n",
    "\n",
    "#-----------------------\n",
    "# Column stages_visited\n",
    "# People tend to visit 2-3 stages\n",
    "values = [1, 2, 3, 4, 5]\n",
    "distribution = [0.06, 0.1, 0.19, 0.4, 0.25]\n",
    "\n",
    "# Randomly assign the stages visited based on the distribution\n",
    "df[\"stages_visited\"] = np.random.choice(\n",
    "    values,\n",
    "    size=len(df),\n",
    "    p=distribution\n",
    ")"
   ]
  },
  {
   "cell_type": "markdown",
   "id": "47c27d00",
   "metadata": {},
   "source": [
    "#### Column *\"age\"*"
   ]
  },
  {
   "cell_type": "markdown",
   "id": "4f92bd91",
   "metadata": {},
   "source": [
    "I applied a random normal distribution to this field, as it best simulates a realistic age spread.. I thought this would be the best fit for the column to behave realisticly. I clipped the values to ensure a minimum of 18 and a maximum of 59, meaning any outliers below or above those limits were automatically set to the nearest boundary."
   ]
  },
  {
   "cell_type": "code",
   "execution_count": 3,
   "id": "3055a46e",
   "metadata": {},
   "outputs": [],
   "source": [
    "# For age I will use a normal distribution with a mean of 30 and a standard deviation of 7\n",
    "min_age = 18\n",
    "max_age = 59\n",
    "mean_age = 30\n",
    "std_dev_age = 8\n",
    "\n",
    "# Generate random ages using a normal distribution\n",
    "ages = np.random.normal(loc=mean_age, scale=std_dev_age, size=len(df))\n",
    "\n",
    "# Clip the ages to be within the specified range\n",
    "clipped_ages = np.clip(ages, min_age, max_age)\n",
    "\n",
    "# Round the ages to the nearest integer\n",
    "clipped_ages = np.round(clipped_ages).astype(int)\n",
    "\n",
    "# Assinging the clipped ages to the 'age' column\n",
    "df[\"age\"] = clipped_ages"
   ]
  },
  {
   "cell_type": "markdown",
   "id": "25c2e155",
   "metadata": {},
   "source": [
    "#### Adding variety in *\"origin_city\"*"
   ]
  },
  {
   "cell_type": "code",
   "execution_count": 4,
   "id": "ffa2078e",
   "metadata": {},
   "outputs": [],
   "source": [
    "# I will introduce 'Malaga' to add variety\n",
    "values = [\"Madrid\", \"Barcelona\", \"Valencia\", \"Sevilla\", \"Malaga\"]\n",
    "distribution = [0.38, 0.29, 0.18, 0.1, 0.05]\n",
    "df[\"origin_city\"] = np.random.choice(\n",
    "    values,\n",
    "    size=len(df),\n",
    "    p=distribution\n",
    ")"
   ]
  },
  {
   "cell_type": "markdown",
   "id": "9aa72565",
   "metadata": {},
   "source": [
    "#### Changing *\"tickep_price\"*"
   ]
  },
  {
   "cell_type": "markdown",
   "id": "f51bc18c",
   "metadata": {},
   "source": [
    "The original ticket prices were:"
   ]
  },
  {
   "cell_type": "code",
   "execution_count": 5,
   "id": "a361ab9d",
   "metadata": {},
   "outputs": [
    {
     "name": "stdout",
     "output_type": "stream",
     "text": [
      "ticket_price\n",
      "80     4750\n",
      "200    4642\n",
      "150    4608\n",
      "Name: count, dtype: int64\n"
     ]
    }
   ],
   "source": [
    "print(df[\"ticket_price\"].value_counts())"
   ]
  },
  {
   "cell_type": "markdown",
   "id": "c4bcbbba",
   "metadata": {},
   "source": [
    "These values didn’t reflect a realistic price gap between tickets, especially considering the added value of multi-day or VIP passes. I updated them as follows:"
   ]
  },
  {
   "cell_type": "code",
   "execution_count": 6,
   "id": "687374bc",
   "metadata": {},
   "outputs": [
    {
     "name": "stdout",
     "output_type": "stream",
     "text": [
      "ticket_price\n",
      "80     4750\n",
      "350    4642\n",
      "210    4608\n",
      "Name: count, dtype: int64\n"
     ]
    }
   ],
   "source": [
    "# I will replace 150 for 210 and 200 for 350\n",
    "df[\"ticket_price\"] = df[\"ticket_price\"].replace({150: 210, 200: 350})\n",
    "\n",
    "print(df[\"ticket_price\"].value_counts())"
   ]
  }
 ],
 "metadata": {
  "kernelspec": {
   "display_name": "Python 3",
   "language": "python",
   "name": "python3"
  },
  "language_info": {
   "codemirror_mode": {
    "name": "ipython",
    "version": 3
   },
   "file_extension": ".py",
   "mimetype": "text/x-python",
   "name": "python",
   "nbconvert_exporter": "python",
   "pygments_lexer": "ipython3",
   "version": "3.12.3"
  }
 },
 "nbformat": 4,
 "nbformat_minor": 5
}
