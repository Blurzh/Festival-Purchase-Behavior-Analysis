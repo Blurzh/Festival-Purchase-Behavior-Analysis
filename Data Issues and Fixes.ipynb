{
 "cells": [
  {
   "cell_type": "markdown",
   "id": "d3643f3b",
   "metadata": {},
   "source": [
    "## Issues and Fixes"
   ]
  },
  {
   "cell_type": "markdown",
   "id": "ae87696a",
   "metadata": {},
   "source": [
    "Here I will share the major obstacles, inconvenients, razoning, progresses and fixes I faced while developing my first data analysis project. Some points have been organically explained in a different section (links to those sections will be provided, in order to avoid repetition across sections), while some deserve their space here, since they needed a deeper thought and coding process."
   ]
  },
  {
   "cell_type": "markdown",
   "id": "2bfb7851",
   "metadata": {},
   "source": [
    "### Shapening my data base"
   ]
  },
  {
   "cell_type": "markdown",
   "id": "2c05590e",
   "metadata": {},
   "source": [
    "I generated the raw dataset with AI in order to have the opportunity to work with a music festival data base. Thanks to AI, I could have the information I wanted to work with, but during my Data Survey I "
   ]
  },
  {
   "cell_type": "markdown",
   "id": "f31ad1a6",
   "metadata": {},
   "source": [
    "# AQUI ENTRA LA EXPLICACION DE LA DISTRIBUCIÓN BINOMIAL"
   ]
  }
 ],
 "metadata": {
  "language_info": {
   "name": "python"
  }
 },
 "nbformat": 4,
 "nbformat_minor": 5
}
